{
  "nbformat": 4,
  "nbformat_minor": 0,
  "metadata": {
    "colab": {
      "provenance": []
    },
    "kernelspec": {
      "name": "python3",
      "display_name": "Python 3"
    },
    "language_info": {
      "name": "python"
    }
  },
  "cells": [
    {
      "cell_type": "markdown",
      "source": [
        "```\n",
        "========================================================\n",
        "                      CONTROLE DE VERSÃO\n",
        "--------------------------------------------------------\n",
        "Nome do Programador: Guilherme Santiago Mingarelli\n",
        "Data de Criação: 2024-10-02\n",
        "Última Atualização: 2024-10-02\n",
        "Versão: 1.0.1\n",
        "Descrição: [Otimizador de Rotas, usando OSMNX]\n",
        "--------------------------------------------------------\n",
        "Histórico de Alterações:\n",
        "- v1.0.1 (2024-10-02): [Correção no código]\n",
        "- v1.0.1 (2024-10-03): [Teste com diferentes endereços e ajuste no marcadores de partida e chegada]\n",
        "- v1.0.1 (2024-10-04): [Comentar partes do código desenvolvido anteriormente]\n",
        "\n",
        "1. Rua Augusta, 1155, Consolação, São Paulo, SP - 05074-000\n",
        "2. Avenida Brigadeiro Luís Antônio, 1567, Bela Vista, São Paulo, SP - 01426-001\n",
        "3. Rua Teodoro Sampaio, 1113, Pinheiros, São Paulo, SP - 04522-000\n",
        "4. Rua Artur de Azevedo, 32, Pinheiros, São Paulo - SP, 05404-000\n",
        "5. Rua Cardeal Arcoverde, 1053, Pinheiros, São Paulo, SP - 05433-010\n",
        "6. Avenida Santo Amaro, 657, Moema, São Paulo, SP - 01503-001\n",
        "7. Rua Bela Cintra, 1000, Cerqueira César, São Paulo, SP - 01310-100\n",
        "8. Avenida Brigadeiro Luís Antônio, 144, Sé, São Paulo, SP - 04522-000\n",
        "9. Rua Cardeal Arcoverde, 1644, Pinheiros, São Paulo, SP - 01310-100\n",
        "10. Avenida São João, 1291, República, São Paulo, SP - 01426-001\n",
        "========================================================\n",
        "```\n"
      ],
      "metadata": {
        "id": "bFI-v6rFOpIU"
      }
    },
    {
      "cell_type": "code",
      "source": [
        "# O comando abaixo instala a biblioteca OSMnx, que é utilizada para\n",
        "# trabalhar com dados geoespaciais obtidos do OpenStreetMap, permitindo\n",
        "# a criação e análise de redes de ruas e infraestrutura urbana."
      ],
      "metadata": {
        "id": "Sg41aqLp19i6"
      },
      "execution_count": 9,
      "outputs": []
    },
    {
      "cell_type": "code",
      "source": [
        "pip install osmnx"
      ],
      "metadata": {
        "colab": {
          "base_uri": "https://localhost:8080/"
        },
        "id": "kjbGB5ixOyyT",
        "outputId": "ba36b621-dc84-4e38-fffa-b339da98f608"
      },
      "execution_count": 10,
      "outputs": [
        {
          "output_type": "stream",
          "name": "stdout",
          "text": [
            "Requirement already satisfied: osmnx in /usr/local/lib/python3.10/dist-packages (1.9.4)\n",
            "Requirement already satisfied: geopandas<0.15,>=0.12 in /usr/local/lib/python3.10/dist-packages (from osmnx) (0.14.4)\n",
            "Requirement already satisfied: networkx<3.4,>=2.5 in /usr/local/lib/python3.10/dist-packages (from osmnx) (3.3)\n",
            "Requirement already satisfied: numpy<1.27,>=1.20 in /usr/local/lib/python3.10/dist-packages (from osmnx) (1.26.4)\n",
            "Requirement already satisfied: pandas<2.3,>=1.1 in /usr/local/lib/python3.10/dist-packages (from osmnx) (2.2.2)\n",
            "Requirement already satisfied: requests<2.33,>=2.27 in /usr/local/lib/python3.10/dist-packages (from osmnx) (2.32.3)\n",
            "Requirement already satisfied: shapely<2.1,>=2.0 in /usr/local/lib/python3.10/dist-packages (from osmnx) (2.0.6)\n",
            "Requirement already satisfied: fiona>=1.8.21 in /usr/local/lib/python3.10/dist-packages (from geopandas<0.15,>=0.12->osmnx) (1.10.1)\n",
            "Requirement already satisfied: packaging in /usr/local/lib/python3.10/dist-packages (from geopandas<0.15,>=0.12->osmnx) (24.1)\n",
            "Requirement already satisfied: pyproj>=3.3.0 in /usr/local/lib/python3.10/dist-packages (from geopandas<0.15,>=0.12->osmnx) (3.6.1)\n",
            "Requirement already satisfied: python-dateutil>=2.8.2 in /usr/local/lib/python3.10/dist-packages (from pandas<2.3,>=1.1->osmnx) (2.8.2)\n",
            "Requirement already satisfied: pytz>=2020.1 in /usr/local/lib/python3.10/dist-packages (from pandas<2.3,>=1.1->osmnx) (2024.2)\n",
            "Requirement already satisfied: tzdata>=2022.7 in /usr/local/lib/python3.10/dist-packages (from pandas<2.3,>=1.1->osmnx) (2024.2)\n",
            "Requirement already satisfied: charset-normalizer<4,>=2 in /usr/local/lib/python3.10/dist-packages (from requests<2.33,>=2.27->osmnx) (3.3.2)\n",
            "Requirement already satisfied: idna<4,>=2.5 in /usr/local/lib/python3.10/dist-packages (from requests<2.33,>=2.27->osmnx) (3.10)\n",
            "Requirement already satisfied: urllib3<3,>=1.21.1 in /usr/local/lib/python3.10/dist-packages (from requests<2.33,>=2.27->osmnx) (2.2.3)\n",
            "Requirement already satisfied: certifi>=2017.4.17 in /usr/local/lib/python3.10/dist-packages (from requests<2.33,>=2.27->osmnx) (2024.8.30)\n",
            "Requirement already satisfied: attrs>=19.2.0 in /usr/local/lib/python3.10/dist-packages (from fiona>=1.8.21->geopandas<0.15,>=0.12->osmnx) (24.2.0)\n",
            "Requirement already satisfied: click~=8.0 in /usr/local/lib/python3.10/dist-packages (from fiona>=1.8.21->geopandas<0.15,>=0.12->osmnx) (8.1.7)\n",
            "Requirement already satisfied: click-plugins>=1.0 in /usr/local/lib/python3.10/dist-packages (from fiona>=1.8.21->geopandas<0.15,>=0.12->osmnx) (1.1.1)\n",
            "Requirement already satisfied: cligj>=0.5 in /usr/local/lib/python3.10/dist-packages (from fiona>=1.8.21->geopandas<0.15,>=0.12->osmnx) (0.7.2)\n",
            "Requirement already satisfied: six>=1.5 in /usr/local/lib/python3.10/dist-packages (from python-dateutil>=2.8.2->pandas<2.3,>=1.1->osmnx) (1.16.0)\n"
          ]
        }
      ]
    },
    {
      "cell_type": "code",
      "source": [
        "# Importa a biblioteca Folium, que é usada para criar mapas interativos em Python.\n",
        "import folium\n",
        "\n",
        "# Importa a biblioteca OSMnx, que facilita o download e a análise de dados geoespaciais da OpenStreetMap.\n",
        "import osmnx as ox"
      ],
      "metadata": {
        "id": "hvPNOzrrPh7M"
      },
      "execution_count": 11,
      "outputs": []
    },
    {
      "cell_type": "code",
      "source": [
        "# Configurações da biblioteca OSMnx.\n",
        "# Ativa o uso de cache para armazenar dados baixados do OpenStreetMap localmente,\n",
        "# melhorando a eficiência ao evitar downloads repetidos.\n",
        "ox.config(use_cache=True,\n",
        "\n",
        "           # Ativa o registro de logs no console, permitindo que o usuário veja\n",
        "           # informações sobre as operações realizadas pela biblioteca, como\n",
        "           # chamadas de rede e mensagens de erro, facilitando a depuração.\n",
        "           log_console=True)"
      ],
      "metadata": {
        "colab": {
          "base_uri": "https://localhost:8080/"
        },
        "id": "FJG6axyXPmZN",
        "outputId": "63f7ca2d-1549-486b-a3af-f5bc3499845a"
      },
      "execution_count": 12,
      "outputs": [
        {
          "output_type": "stream",
          "name": "stderr",
          "text": [
            "<ipython-input-12-b451b4967b11>:4: FutureWarning: The `utils.config` function is deprecated and will be removed in the v2.0.0 release. Instead, use the `settings` module directly to configure a global setting's value. For example, `ox.settings.log_console=True`. See the OSMnx v2 migration guide: https://github.com/gboeing/osmnx/issues/1123\n",
            "  ox.config(use_cache=True,\n"
          ]
        }
      ]
    },
    {
      "cell_type": "code",
      "source": [
        "# Utiliza a função de geocodificação da biblioteca OSMnx para converter um endereço em coordenadas geográficas (latitude e longitude).\n",
        "# Neste caso, busca as coordenadas do primeiro endereço fornecido.\n",
        "coordenada_inicial = ox.geocoder.geocode(\"Rua Augusta, 1155, Consolação, São Paulo\") #(-23.591372752030363, -46.644694016475164)   ox.geocoder.geocode(\"Rua dos Otonis, 49, Vila Clementino, São Paulo\")\n",
        "# Utiliza a função de geocodificação novamente para buscar as coordenadas do segundo endereço fornecido.\n",
        "coordenada_final = ox.geocoder.geocode(\"Avenida Brigadeiro Luís Antônio, 1567, Bela Vista, São Paulo\")  #(-23.59274732804329, -46.64665485698893)  ox.geocoder.geocode(\"Largo Senador Raul Cardoso, 283, Vila Clementino, São Paulo\")\n",
        "\n",
        "# Calcula o ponto médio entre as coordenadas inicial e final.\n",
        "# A média das latitudes (coordenada_inicial[0] e coordenada_final[0])\n",
        "# e das longitudes (coordenada_inicial[1] e coordenada_final[1]) é obtida.\n",
        "point = ((coordenada_inicial[0] + coordenada_final[0]) / 2,\n",
        "         (coordenada_inicial[1] + coordenada_final[1]) / 2)"
      ],
      "metadata": {
        "id": "pzq55bZiPrJL"
      },
      "execution_count": 13,
      "outputs": []
    },
    {
      "cell_type": "code",
      "source": [
        "# O código abaixo utiliza a função graph_from_place da biblioteca OSMnx para gerar um grafo\n",
        "# representando a rede de ruas dirigíveis (network_type='drive') da cidade de São Paulo, Brasil.\n",
        "# 'São Paulo, São Paulo, Brazil' é o nome do local que será pesquisado no OpenStreetMap.\n",
        "# O resultado é armazenado na variável G, que contém a rede viária, representada como um grafo,\n",
        "# onde os nós são interseções e as arestas são as ruas conectando esses nós.\n",
        "G = ox.graph_from_place('São Paulo, São Paulo, Brazil', network_type = 'drive')"
      ],
      "metadata": {
        "id": "DcRiY3HIP16E"
      },
      "execution_count": 14,
      "outputs": []
    },
    {
      "cell_type": "code",
      "source": [
        "# Determina um novo ID para o nó de origem, que é um número que não está em uso na rede existente.\n",
        "# O novo ID é igual ao maior ID de nó atual mais 1.\n",
        "id_origem = max(G.nodes) + 1\n",
        "\n",
        "# Adiciona um novo nó ao grafo 'G' com as coordenadas da localização inicial (coordenada_inicial).\n",
        "# 'y' representa a latitude e 'x' representa a longitude.\n",
        "G.add_node(id_origem, y=coordenada_inicial[0], x=coordenada_inicial[1])\n",
        "\n",
        "# Determina um novo ID para o nó de destino, seguindo a mesma lógica para garantir que seja único.\n",
        "id_destino = max(G.nodes) + 1\n",
        "\n",
        "# Adiciona um novo nó ao grafo 'G' com as coordenadas da localização final (coordenada_final).\n",
        "# 'y' representa a latitude e 'x' representa a longitude.\n",
        "G.add_node(id_destino, y=coordenada_final[0], x=coordenada_final[1])"
      ],
      "metadata": {
        "id": "1U0otQD-P-DF"
      },
      "execution_count": 15,
      "outputs": []
    },
    {
      "cell_type": "code",
      "source": [
        "# Encontra a aresta mais próxima da rede 'G' em relação à coordenada inicial.\n",
        "# As coordenadas são passadas na ordem (longitude, latitude) porque OSMnx espera esse formato.\n",
        "# 'return_dist=True' faz com que a função retorne também a distância até a aresta encontrada.\n",
        "orig_inicial, dist_inicial = ox.nearest_edges(G, coordenada_inicial[1], coordenada_inicial[0], return_dist=True)\n",
        "\n",
        "# Encontra a aresta mais próxima da rede 'G' em relação à coordenada final.\n",
        "# Novamente, as coordenadas são passadas na ordem (longitude, latitude).\n",
        "# 'return_dist=True' retorna também a distância até a aresta encontrada.\n",
        "orig_final, dist_final = ox.nearest_edges(G, coordenada_final[1], coordenada_final[0], return_dist=True)"
      ],
      "metadata": {
        "id": "vwPQjQAuQ3pN"
      },
      "execution_count": 16,
      "outputs": []
    },
    {
      "cell_type": "code",
      "source": [
        "# Plota o grafo 'G', que representa a rede viária construída a partir das coordenadas e nós adicionados.\n",
        "# A função 'plot_graph' da biblioteca OSMnx gera uma visualização gráfica da rede de ruas,\n",
        "# permitindo que o usuário veja a disposição das ruas e a conexão entre os nós.\n",
        "ox.plot_graph(G)"
      ],
      "metadata": {
        "colab": {
          "base_uri": "https://localhost:8080/",
          "height": 670
        },
        "id": "t9DDpVndRCLj",
        "outputId": "95cdd3e0-a9d8-47ae-f72f-b41cf919a51b"
      },
      "execution_count": 17,
      "outputs": [
        {
          "output_type": "display_data",
          "data": {
            "text/plain": [
              "<Figure size 800x800 with 1 Axes>"
            ],
            "image/png": "[encoded data removed]"
          },
          "metadata": {}
        },
        {
          "output_type": "execute_result",
          "data": {
            "text/plain": [
              "(<Figure size 800x800 with 1 Axes>, <Axes: >)"
            ]
          },
          "metadata": {},
          "execution_count": 17
        }
      ]
    },
    {
      "cell_type": "code",
      "source": [
        "# Primeiro loop: percorre a lista 'orig_final', que contém identificadores de nós para o destino.\n",
        "for i in range(0, len(orig_final)):\n",
        "\n",
        "  # Verifica se o valor do identificador não é zero (assumindo que zero representa um valor inválido).\n",
        "  if orig_final[i] != 0:\n",
        "\n",
        "    # Armazena o valor do identificador atual na variável 'id'.\n",
        "    id = orig_final[i]\n",
        "\n",
        "    # Calcula a distância entre as coordenadas finais fornecidas (coordenada_final[0] e coordenada_final[1])\n",
        "    # e as coordenadas do nó correspondente no grafo G (G.nodes()[id]['y'] e G.nodes()[id]['x']),\n",
        "    # usando a função 'great_circle' da biblioteca OSMnx.\n",
        "    distancia = ox.distance.great_circle(\n",
        "        coordenada_final[0],\n",
        "        coordenada_final[1],\n",
        "        G.nodes()[id]['y'],\n",
        "        G.nodes()[id]['x']\n",
        "    )\n",
        "\n",
        "    # Adiciona uma aresta no grafo G entre o nó de destino e o nó 'id', com a distância calculada como peso.\n",
        "    G.add_edge(id_destino, id, length=distancia)\n",
        "\n",
        "    # Adiciona uma aresta no sentido contrário, entre o nó 'id' e o nó de destino.\n",
        "    G.add_edge(id, id_destino, length=distancia)\n",
        "\n",
        "# Segundo loop: percorre a lista 'orig_inicial', que contém identificadores de nós para a origem.\n",
        "for i in range(0, len(orig_inicial)):\n",
        "\n",
        "  # Verifica se o valor do identificador não é zero (novamente, assumindo que zero é inválido).\n",
        "  if orig_inicial[i] != 0:\n",
        "\n",
        "    # Armazena o valor do identificador atual na variável 'id'.\n",
        "    id = orig_inicial[i]\n",
        "\n",
        "    # Calcula a distância entre as coordenadas iniciais fornecidas (coordenada_inicial[0] e coordenada_inicial[1])\n",
        "    # e as coordenadas do nó correspondente no grafo G.\n",
        "    distancia = ox.distance.great_circle(\n",
        "        coordenada_inicial[0],\n",
        "        coordenada_inicial[1],\n",
        "        G.nodes()[id]['y'],\n",
        "        G.nodes()[id]['x']\n",
        "    )\n",
        "\n",
        "    # Adiciona uma aresta no grafo G entre o nó de origem e o nó 'id', com a distância calculada como peso.\n",
        "    G.add_edge(id_origem, id, length=distancia)\n",
        "\n",
        "    # Adiciona uma aresta no sentido contrário, entre o nó 'id' e o nó de origem.\n",
        "    G.add_edge(id, id_origem, length=distancia)\n",
        "\n",
        "# Calcula a rota mais curta no grafo G entre o nó de origem e o nó de destino, utilizando o comprimento ('length') como critério de peso.\n",
        "route = ox.routing.shortest_path(G, id_origem, id_destino, weight='length')"
      ],
      "metadata": {
        "id": "ohxlUirqRPX6"
      },
      "execution_count": 18,
      "outputs": []
    },
    {
      "cell_type": "code",
      "source": [
        "# O código abaixo exibe o conteúdo da variável 'route' no console.\n",
        "# 'route' contém informações sobre uma rota específica,\n",
        "# como uma lista de nós ou coordenadas que formam o caminho em uma rede de ruas.\n",
        "print(route)"
      ],
      "metadata": {
        "colab": {
          "base_uri": "https://localhost:8080/"
        },
        "id": "tpiDl-HtkTbb",
        "outputId": "49e5372f-a2f3-4f6b-f5cf-387113ce9ff2"
      },
      "execution_count": 19,
      "outputs": [
        {
          "output_type": "stream",
          "name": "stdout",
          "text": [
            "[12206043341, 1953466357, 1953466363, 60609673, 1953466367, 1953466354, 60609692, 1990911135, 1953466370, 1953466360, 151275041, 151275040, 457566749, 5691703360, 457566777, 457566778, 10886806485, 457593059, 142808171, 863898797, 457593200, 8765779194, 172020870, 457593263, 12206043342]\n"
          ]
        }
      ]
    },
    {
      "cell_type": "code",
      "source": [
        "# Converte o grafo 'G' em dois GeoDataFrames: um para nós e outro para arestas.\n",
        "# Como 'nodes=False' e 'edges=True', ele retornará apenas o GeoDataFrame de arestas.\n",
        "edges = ox.graph_to_gdfs(G, nodes=False, edges=True)\n",
        "\n",
        "# Extrai a geometria da rua (linha que conecta dois nós) associada à origem.\n",
        "# A função 'edges['geometry']' retorna a geometria de todas as arestas, onde:\n",
        "# 'orig_inicial[0]', 'orig_inicial[1]' e 'orig_inicial[2]' referenciam índices específicos para localizar uma aresta exata no DataFrame.\n",
        "# A função 'coords' retorna as coordenadas da geometria (neste caso, uma linha) associada à aresta.\n",
        "# Converte a geometria em uma lista de coordenadas da rua de origem.\n",
        "rua_origem = list(edges['geometry'][orig_inicial[0]][orig_inicial[1]][orig_inicial[2]].coords)\n",
        "\n",
        "# Extrai a geometria da rua associada ao destino, de maneira semelhante ao que foi feito para a origem.\n",
        "# Os índices 'orig_final[0]', 'orig_final[1]' e 'orig_final[2]' localizam a rua do destino no GeoDataFrame.\n",
        "# Converte a geometria em uma lista de coordenadas da rua de destino.\n",
        "rua_destino = list(edges['geometry'][orig_final[0]][orig_final[1]][orig_final[2]].coords)"
      ],
      "metadata": {
        "id": "n5aHIU3fRT6r"
      },
      "execution_count": 20,
      "outputs": []
    },
    {
      "cell_type": "code",
      "source": [
        "# A variável 'route_map' é inicializada como um mapa interativo utilizando a biblioteca Folium.\n",
        "# O mapa é centrado nas coordenadas definidas pela variável 'point' e o nível de zoom inicial é 15,\n",
        "# proporcionando uma visão detalhada do local. O parâmetro 'control_scale=True' adiciona uma escala no mapa.\n",
        "route_map = folium.Map(location=point, control_scale=True, zoom_start=15)\n",
        "\n",
        "# O primeiro marcador é adicionado ao mapa 'route_map' nas coordenadas iniciais (coordenada_inicial).\n",
        "# O marcador é representado por um ícone azul (color='blue') com o símbolo de usuário (icon='user').\n",
        "# Este marcador provavelmente indica o ponto de partida no mapa.\n",
        "folium.Marker(location=[coordenada_inicial[0], coordenada_inicial[1]],\n",
        "              icon=folium.Icon(color='blue', icon='user')).add_to(route_map)\n",
        "\n",
        "# O segundo marcador é adicionado ao mapa 'route_map' nas coordenadas finais (coordenada_final).\n",
        "# O marcador é representado por um ícone verde (color='green') com o símbolo de captura de tela (icon='screenshot'),\n",
        "# indicando o ponto de destino no mapa.\n",
        "folium.Marker(location=[coordenada_final[0], coordenada_final[1]],\n",
        "              icon=folium.Icon(color='green', icon='screenshot')).add_to(route_map)"
      ],
      "metadata": {
        "colab": {
          "base_uri": "https://localhost:8080/"
        },
        "id": "aQpq1_N0RZDM",
        "outputId": "21606874-3d94-4e87-d032-96c124639016"
      },
      "execution_count": 21,
      "outputs": [
        {
          "output_type": "execute_result",
          "data": {
            "text/plain": [
              "<folium.map.Marker at 0x7f3e84dad360>"
            ]
          },
          "metadata": {},
          "execution_count": 21
        }
      ]
    },
    {
      "cell_type": "code",
      "source": [
        "# Inicializa uma lista vazia chamada 'linha' que armazenará os pontos (coordenadas) da rota.\n",
        "linha = []\n",
        "\n",
        "# Loop que percorre os nós da rota 'route1', começando do segundo nó até o penúltimo.\n",
        "# 'range(1, len(route) - 2)' garante que o loop percorra todos os nós intermediários da rota.\n",
        "for j in range(1, len(route) - 2):\n",
        "\n",
        "  # Extrai a geometria (coordenadas) da aresta entre os nós consecutivos 'route1[j]' e 'route1[j+1]'.\n",
        "  # A função 'edges['geometry']' acessa a geometria da aresta entre esses dois nós, onde '0' refere-se\n",
        "  # ao índice da primeira (e provavelmente única) linha na geometria dessa aresta.\n",
        "  # 'coords' extrai as coordenadas da linha e 'list()' converte essas coordenadas em uma lista.\n",
        "  temp = list(edges['geometry'][route[j]][route[j+1]][0].coords)\n",
        "\n",
        "  # Itera sobre todas as coordenadas (pontos) extraídas para a aresta atual (entre 'route1[j]' e 'route1[j+1]').\n",
        "  for k in range(0, len(temp)):\n",
        "\n",
        "    # Adiciona cada ponto à lista 'linha', trocando a ordem das coordenadas de (x, y) para (y, x),\n",
        "    # pois o folium espera que as coordenadas estejam no formato [latitude, longitude].\n",
        "    # 'temp[k][1]' é a latitude e 'temp[k][0]' é a longitude.\n",
        "    linha.append([temp[k][1], temp[k][0]])\n",
        "\n",
        "# Desenha uma linha no mapa ('route_map') usando as coordenadas da lista 'linha'.\n",
        "# 'locations=linha' define os pontos da linha, e 'color=\"#FF0000\"' define a cor da linha (vermelho).\n",
        "folium.PolyLine(locations=linha, color=\"#FF0000\").add_to(route_map)"
      ],
      "metadata": {
        "colab": {
          "base_uri": "https://localhost:8080/"
        },
        "id": "PK-1_1k2ReiM",
        "outputId": "4901824f-7e95-445c-b08d-8e8ac70dd4f2"
      },
      "execution_count": 22,
      "outputs": [
        {
          "output_type": "execute_result",
          "data": {
            "text/plain": [
              "<folium.vector_layers.PolyLine at 0x7f3ef445f340>"
            ]
          },
          "metadata": {},
          "execution_count": 22
        }
      ]
    },
    {
      "cell_type": "code",
      "source": [
        "# A variável 'coordenadas_nodo' obtém as coordenadas (x, y) do penúltimo nó da rota ('route[-2]') do grafo 'G'.\n",
        "coordenadas_nodo = G.nodes[route[-2]]\n",
        "\n",
        "# Inicializa uma lista 'linha_destino' para armazenar os pontos da linha de destino que será desenhada.\n",
        "linha_destino = []\n",
        "\n",
        "# Verifica se o primeiro ponto de 'rua_destino' coincide com as coordenadas do nó atual.\n",
        "if rua_destino[0][0] == coordenadas_nodo['x'] and rua_destino[0][1] == coordenadas_nodo['y']:\n",
        "  # Percorre os pontos em 'rua_destino' para calcular a distância entre os pontos da rota e as coordenadas finais.\n",
        "  for i in range(0, len(rua_destino)):\n",
        "    # Calcula a distância entre 'coordenada_final' e os pontos em 'rua_destino' usando a fórmula do círculo máximo.\n",
        "    ponto_origem = ox.distance.great_circle(coordenada_final[1], coordenada_final[0], rua_destino[i][0], rua_destino[i][1])\n",
        "\n",
        "    # Verifica se a distância atual é maior que a distância do ponto anterior ou se a distância é zero.\n",
        "    if i > 0 and ponto_origem > ponto_antecessor or ponto_origem == 0:\n",
        "      # Se a condição for verdadeira, adiciona 'coordenada_final' à linha de destino e encerra o loop.\n",
        "      linha_destino.append([coordenada_final[0], coordenada_final[1]])\n",
        "      break\n",
        "\n",
        "    # Adiciona o ponto atual de 'rua_destino' à lista 'linha_destino'.\n",
        "    linha_destino.append([rua_destino[i][1], rua_destino[i][0]])\n",
        "\n",
        "    # Atualiza a variável 'ponto_antecessor' com a distância atual para a próxima iteração.\n",
        "    ponto_antecessor = ponto_origem\n",
        "else:\n",
        "  # Caso as coordenadas não coincidam, adiciona 'coordenada_final' e o último ponto de 'rua_destino' à linha de destino.\n",
        "  linha_destino.append([coordenada_final[0], coordenada_final[1]])\n",
        "  linha_destino.append([rua_destino[-1][1], rua_destino[-1][0]])\n",
        "\n",
        "# Se a lista 'linha_destino' não estiver vazia, desenha uma linha vermelha no mapa ('route_map') com os pontos da lista.\n",
        "if len(linha_destino) > 0:\n",
        "  folium.PolyLine(locations=linha_destino, color=\"#FF0000\").add_to(route_map)\n",
        "\n",
        "\n",
        "# A variável 'coordenadas_nodo' agora obtém as coordenadas do segundo nó da rota ('route[1]').\n",
        "coordenadas_nodo = G.nodes[route[1]]\n",
        "\n",
        "# Inicializa uma lista 'linha_origem' para armazenar os pontos da linha de origem que será desenhada.\n",
        "linha_origem = []\n",
        "\n",
        "# Verifica se o primeiro ponto de 'rua_origem' coincide com as coordenadas do nó atual.\n",
        "if rua_origem[0][0] == coordenadas_nodo['x'] and rua_origem[0][1] == coordenadas_nodo['y']:\n",
        "  # Percorre os pontos em 'rua_origem' para calcular a distância entre os pontos da rota e as coordenadas iniciais.\n",
        "  for i in range(0, len(rua_origem)):\n",
        "    # Calcula a distância entre 'coordenada_inicial' e os pontos em 'rua_origem' usando a fórmula do círculo máximo.\n",
        "    ponto_origem = ox.distance.great_circle(coordenada_inicial[1], coordenada_inicial[0], rua_origem[i][0], rua_origem[i][1])\n",
        "\n",
        "    # Verifica se a distância atual é maior que a distância do ponto anterior ou se a distância é zero.\n",
        "    if i > 0 and ponto_origem > ponto_antecessor or ponto_origem == 0:\n",
        "      # Se a condição for verdadeira, adiciona 'coordenada_inicial' à linha de origem e encerra o loop.\n",
        "      linha_origem.append([coordenada_inicial[0], coordenada_inicial[1]])\n",
        "      break\n",
        "\n",
        "    # Adiciona o ponto atual de 'rua_origem' à lista 'linha_origem'.\n",
        "    linha_origem.append([rua_origem[i][1], rua_origem[i][0]])\n",
        "\n",
        "    # Atualiza a variável 'ponto_antecessor' com a distância atual para a próxima iteração.\n",
        "    ponto_antecessor = ponto_origem\n",
        "\n",
        "else:\n",
        "  # Caso as coordenadas não coincidam, adiciona 'coordenada_inicial' e o último ponto de 'rua_origem' à linha de origem.\n",
        "  linha_origem.append([coordenada_inicial[0], coordenada_inicial[1]])\n",
        "  linha_origem.append([rua_origem[-1][1], rua_origem[-1][0]])\n",
        "\n",
        "# Se a lista 'linha_origem' não estiver vazia, desenha uma linha vermelha no mapa ('route_map') com os pontos da lista.\n",
        "if len(linha_origem) > 0:\n",
        "  folium.PolyLine(locations=linha_origem, color=\"#FF0000\").add_to(route_map)"
      ],
      "metadata": {
        "id": "V4FuF_HepBD4"
      },
      "execution_count": 24,
      "outputs": []
    },
    {
      "cell_type": "code",
      "source": [
        "# A variável 'route_map' é um objeto da biblioteca Folium,\n",
        "# utilizado para criar um mapa interativo que será visualizado em um navegador.\n",
        "# Esse objeto pode estar configurado anteriormente com uma localização inicial (centro do mapa)\n",
        "# e um nível de zoom específico. A seguir, elementos como rotas, marcadores, e outros\n",
        "# objetos geoespaciais serão adicionados ao mapa conforme o código avança.\n",
        "# No final, o mapa poderá ser exibido com todas as rotas e informações adicionadas, como linhas,\n",
        "# polilinhas e pontos específicos. O Folium usa dados geográficos para renderizar o mapa\n",
        "# e manipula-os de forma interativa, facilitando a visualização.\n",
        "route_map"
      ],
      "metadata": {
        "colab": {
          "base_uri": "https://localhost:8080/",
          "height": 1000
        },
        "id": "r7HBX0hMRlRb",
        "outputId": "a9dd51b9-9033-4614-dfe6-aa7a694e038e"
      },
      "execution_count": 25,
      "outputs": [
        {
          "output_type": "execute_result",
          "data": {
            "text/plain": [
              "<folium.folium.Map at 0x7f3e9f85ff10>"
            ],
            "text/html": [
              "<div style=\"width:100%;\"><div style=\"position:relative;width:100%;height:0;padding-bottom:60%;\"><span style=\"color:#565656\">Make this Notebook Trusted to load map: File -> Trust Notebook</span><iframe srcdoc=\"&lt;!DOCTYPE html&gt;\n",
              "&lt;html&gt;\n",
              "&lt;head&gt;\n",
              "    \n",
              "    &lt;meta http-equiv=&quot;content-type&quot; content=&quot;text/html; charset=UTF-8&quot; /&gt;\n",
              "    \n",
              "        &lt;script&gt;\n",
              "            L_NO_TOUCH = false;\n",
              "            L_DISABLE_3D = false;\n",
              "        &lt;/script&gt;\n",
              "    \n",
              "    &lt;style&gt;html, body {width: 100%;height: 100%;margin: 0;padding: 0;}&lt;/style&gt;\n",
              "    &lt;style&gt;#map {position:absolute;top:0;bottom:0;right:0;left:0;}&lt;/style&gt;\n",
              "    &lt;script src=&quot;https://cdn.jsdelivr.net/npm/leaflet@1.9.3/dist/leaflet.js&quot;&gt;&lt;/script&gt;\n",
              "    &lt;script src=&quot;https://code.jquery.com/jquery-3.7.1.min.js&quot;&gt;&lt;/script&gt;\n",
              "    &lt;script src=&quot;https://cdn.jsdelivr.net/npm/bootstrap@5.2.2/dist/js/bootstrap.bundle.min.js&quot;&gt;&lt;/script&gt;\n",
              "    &lt;script src=&quot;https://cdnjs.cloudflare.com/ajax/libs/Leaflet.awesome-markers/2.0.2/leaflet.awesome-markers.js&quot;&gt;&lt;/script&gt;\n",
              "    &lt;link rel=&quot;stylesheet&quot; href=&quot;https://cdn.jsdelivr.net/npm/leaflet@1.9.3/dist/leaflet.css&quot;/&gt;\n",
              "    &lt;link rel=&quot;stylesheet&quot; href=&quot;https://cdn.jsdelivr.net/npm/bootstrap@5.2.2/dist/css/bootstrap.min.css&quot;/&gt;\n",
              "    &lt;link rel=&quot;stylesheet&quot; href=&quot;https://netdna.bootstrapcdn.com/bootstrap/3.0.0/css/bootstrap-glyphicons.css&quot;/&gt;\n",
              "    &lt;link rel=&quot;stylesheet&quot; href=&quot;https://cdn.jsdelivr.net/npm/@fortawesome/fontawesome-free@6.2.0/css/all.min.css&quot;/&gt;\n",
              "    &lt;link rel=&quot;stylesheet&quot; href=&quot;https://cdnjs.cloudflare.com/ajax/libs/Leaflet.awesome-markers/2.0.2/leaflet.awesome-markers.css&quot;/&gt;\n",
              "    &lt;link rel=&quot;stylesheet&quot; href=&quot;https://cdn.jsdelivr.net/gh/python-visualization/folium/folium/templates/leaflet.awesome.rotate.min.css&quot;/&gt;\n",
              "    \n",
              "            &lt;meta name=&quot;viewport&quot; content=&quot;width=device-width,\n",
              "                initial-scale=1.0, maximum-scale=1.0, user-scalable=no&quot; /&gt;\n",
              "            &lt;style&gt;\n",
              "                #map_a2a14b436287af29cdd4529e0dd5ce7e {\n",
              "                    position: relative;\n",
              "                    width: 100.0%;\n",
              "                    height: 100.0%;\n",
              "                    left: 0.0%;\n",
              "                    top: 0.0%;\n",
              "                }\n",
              "                .leaflet-container { font-size: 1rem; }\n",
              "            &lt;/style&gt;\n",
              "        \n",
              "&lt;/head&gt;\n",
              "&lt;body&gt;\n",
              "    \n",
              "    \n",
              "            &lt;div class=&quot;folium-map&quot; id=&quot;map_a2a14b436287af29cdd4529e0dd5ce7e&quot; &gt;&lt;/div&gt;\n",
              "        \n",
              "&lt;/body&gt;\n",
              "&lt;script&gt;\n",
              "    \n",
              "    \n",
              "            var map_a2a14b436287af29cdd4529e0dd5ce7e = L.map(\n",
              "                &quot;map_a2a14b436287af29cdd4529e0dd5ce7e&quot;,\n",
              "                {\n",
              "                    center: [-23.55985995, -46.65226065],\n",
              "                    crs: L.CRS.EPSG3857,\n",
              "                    zoom: 15,\n",
              "                    zoomControl: true,\n",
              "                    preferCanvas: false,\n",
              "                }\n",
              "            );\n",
              "            L.control.scale().addTo(map_a2a14b436287af29cdd4529e0dd5ce7e);\n",
              "\n",
              "            \n",
              "\n",
              "        \n",
              "    \n",
              "            var tile_layer_8fa89a3f135030691604b0a301d453d5 = L.tileLayer(\n",
              "                &quot;https://tile.openstreetmap.org/{z}/{x}/{y}.png&quot;,\n",
              "                {&quot;attribution&quot;: &quot;\\u0026copy; \\u003ca href=\\&quot;https://www.openstreetmap.org/copyright\\&quot;\\u003eOpenStreetMap\\u003c/a\\u003e contributors&quot;, &quot;detectRetina&quot;: false, &quot;maxNativeZoom&quot;: 19, &quot;maxZoom&quot;: 19, &quot;minZoom&quot;: 0, &quot;noWrap&quot;: false, &quot;opacity&quot;: 1, &quot;subdomains&quot;: &quot;abc&quot;, &quot;tms&quot;: false}\n",
              "            );\n",
              "        \n",
              "    \n",
              "            tile_layer_8fa89a3f135030691604b0a301d453d5.addTo(map_a2a14b436287af29cdd4529e0dd5ce7e);\n",
              "        \n",
              "    \n",
              "            var marker_4148bda0279523a79444c55f007f3bda = L.marker(\n",
              "                [-23.5579353, -46.660008],\n",
              "                {}\n",
              "            ).addTo(map_a2a14b436287af29cdd4529e0dd5ce7e);\n",
              "        \n",
              "    \n",
              "            var icon_e13c02ab6fec7b1e45e92fbdd9c9343e = L.AwesomeMarkers.icon(\n",
              "                {&quot;extraClasses&quot;: &quot;fa-rotate-0&quot;, &quot;icon&quot;: &quot;user&quot;, &quot;iconColor&quot;: &quot;white&quot;, &quot;markerColor&quot;: &quot;blue&quot;, &quot;prefix&quot;: &quot;glyphicon&quot;}\n",
              "            );\n",
              "            marker_4148bda0279523a79444c55f007f3bda.setIcon(icon_e13c02ab6fec7b1e45e92fbdd9c9343e);\n",
              "        \n",
              "    \n",
              "            var marker_ad1d8ba51e6cbe5528375dfb9ead1b3e = L.marker(\n",
              "                [-23.5617846, -46.6445133],\n",
              "                {}\n",
              "            ).addTo(map_a2a14b436287af29cdd4529e0dd5ce7e);\n",
              "        \n",
              "    \n",
              "            var icon_c187a4f7c156c81f6ad014ef703333a0 = L.AwesomeMarkers.icon(\n",
              "                {&quot;extraClasses&quot;: &quot;fa-rotate-0&quot;, &quot;icon&quot;: &quot;screenshot&quot;, &quot;iconColor&quot;: &quot;white&quot;, &quot;markerColor&quot;: &quot;green&quot;, &quot;prefix&quot;: &quot;glyphicon&quot;}\n",
              "            );\n",
              "            marker_ad1d8ba51e6cbe5528375dfb9ead1b3e.setIcon(icon_c187a4f7c156c81f6ad014ef703333a0);\n",
              "        \n",
              "    \n",
              "            var poly_line_5d5cb1ed2e4907a2c99de3c3e859a4d2 = L.polyline(\n",
              "                [[-23.5580387, -46.6601165], [-23.55812, -46.6602017], [-23.5581749, -46.6602592], [-23.5581749, -46.6602592], [-23.5585352, -46.6598505], [-23.5587703, -46.6595848], [-23.5590271, -46.6592946], [-23.5590271, -46.6592946], [-23.559157, -46.6591477], [-23.5597566, -46.6584702], [-23.5601062, -46.6580754], [-23.5601062, -46.6580754], [-23.5602617, -46.657913], [-23.5607793, -46.6573202], [-23.56094, -46.6571362], [-23.56094, -46.6571362], [-23.5611771, -46.6568647], [-23.5615508, -46.6564367], [-23.5617683, -46.6561877], [-23.5617686, -46.6561873], [-23.5620544, -46.65586], [-23.5620544, -46.65586], [-23.5623629, -46.655502], [-23.5628057, -46.6549671], [-23.5635681, -46.654046], [-23.5637562, -46.6538186], [-23.5637562, -46.6538186], [-23.5638657, -46.6536858], [-23.5639296, -46.6536095], [-23.5640607, -46.6534508], [-23.5645812, -46.6528219], [-23.5649865, -46.6523322], [-23.5649865, -46.6523322], [-23.5649244, -46.6522712], [-23.5648671, -46.6522151], [-23.5648671, -46.6522151], [-23.5647555, -46.6521055], [-23.5640308, -46.6513944], [-23.5639693, -46.6513341], [-23.5639693, -46.6513341], [-23.5638757, -46.6512439], [-23.5631614, -46.6505816], [-23.563077, -46.6505033], [-23.563077, -46.6505033], [-23.5631558, -46.6504094], [-23.5635769, -46.6499079], [-23.5635769, -46.6499079], [-23.5639587, -46.6494317], [-23.5641879, -46.6491596], [-23.5641879, -46.6491596], [-23.5642183, -46.6491236], [-23.5642313, -46.6491081], [-23.5642419, -46.6490955], [-23.5642883, -46.6490403], [-23.5642883, -46.6490403], [-23.5643628, -46.6489521], [-23.5645177, -46.6487683], [-23.5649954, -46.6482019], [-23.565117, -46.6480577], [-23.565117, -46.6480577], [-23.5653928, -46.6477034], [-23.5654653, -46.6476025], [-23.5654653, -46.6476025], [-23.5654396, -46.6475822], [-23.5654112, -46.6475598], [-23.5653843, -46.6475386], [-23.5653605, -46.6475198], [-23.5651002, -46.64731], [-23.5651002, -46.64731], [-23.5646402, -46.6469138], [-23.564199, -46.6465412], [-23.5639861, -46.6463673], [-23.5637181, -46.6461484], [-23.5635959, -46.6460486], [-23.5635959, -46.6460486], [-23.5634628, -46.6459343], [-23.5634127, -46.6458913], [-23.5633297, -46.64582], [-23.5633297, -46.64582], [-23.5631041, -46.6456327], [-23.5631041, -46.6456327], [-23.5630334, -46.6455722], [-23.5629429, -46.6454949], [-23.5629429, -46.6454949], [-23.5626125, -46.6452256], [-23.5626125, -46.6452256], [-23.5623786, -46.6450179], [-23.5623496, -46.6449921]],\n",
              "                {&quot;bubblingMouseEvents&quot;: true, &quot;color&quot;: &quot;#FF0000&quot;, &quot;dashArray&quot;: null, &quot;dashOffset&quot;: null, &quot;fill&quot;: false, &quot;fillColor&quot;: &quot;#FF0000&quot;, &quot;fillOpacity&quot;: 0.2, &quot;fillRule&quot;: &quot;evenodd&quot;, &quot;lineCap&quot;: &quot;round&quot;, &quot;lineJoin&quot;: &quot;round&quot;, &quot;noClip&quot;: false, &quot;opacity&quot;: 1.0, &quot;smoothFactor&quot;: 1.0, &quot;stroke&quot;: true, &quot;weight&quot;: 3}\n",
              "            ).addTo(map_a2a14b436287af29cdd4529e0dd5ce7e);\n",
              "        \n",
              "    \n",
              "            var poly_line_2f0e5e1920ec4dcaa58724f202010d1b = L.polyline(\n",
              "                [[-23.5623496, -46.6449921], [-23.562159, -46.6448306], [-23.5618795, -46.6445937], [-23.5617846, -46.6445133]],\n",
              "                {&quot;bubblingMouseEvents&quot;: true, &quot;color&quot;: &quot;#FF0000&quot;, &quot;dashArray&quot;: null, &quot;dashOffset&quot;: null, &quot;fill&quot;: false, &quot;fillColor&quot;: &quot;#FF0000&quot;, &quot;fillOpacity&quot;: 0.2, &quot;fillRule&quot;: &quot;evenodd&quot;, &quot;lineCap&quot;: &quot;round&quot;, &quot;lineJoin&quot;: &quot;round&quot;, &quot;noClip&quot;: false, &quot;opacity&quot;: 1.0, &quot;smoothFactor&quot;: 1.0, &quot;stroke&quot;: true, &quot;weight&quot;: 3}\n",
              "            ).addTo(map_a2a14b436287af29cdd4529e0dd5ce7e);\n",
              "        \n",
              "    \n",
              "            var poly_line_16892f3eb4e6de5b4cc664ef0ba28d31 = L.polyline(\n",
              "                [[-23.5580387, -46.6601165], [-23.5579353, -46.660008]],\n",
              "                {&quot;bubblingMouseEvents&quot;: true, &quot;color&quot;: &quot;#FF0000&quot;, &quot;dashArray&quot;: null, &quot;dashOffset&quot;: null, &quot;fill&quot;: false, &quot;fillColor&quot;: &quot;#FF0000&quot;, &quot;fillOpacity&quot;: 0.2, &quot;fillRule&quot;: &quot;evenodd&quot;, &quot;lineCap&quot;: &quot;round&quot;, &quot;lineJoin&quot;: &quot;round&quot;, &quot;noClip&quot;: false, &quot;opacity&quot;: 1.0, &quot;smoothFactor&quot;: 1.0, &quot;stroke&quot;: true, &quot;weight&quot;: 3}\n",
              "            ).addTo(map_a2a14b436287af29cdd4529e0dd5ce7e);\n",
              "        \n",
              "    \n",
              "            var poly_line_2dadafb9af9a429920dd7470161766ee = L.polyline(\n",
              "                [[-23.5623496, -46.6449921], [-23.562159, -46.6448306], [-23.5618795, -46.6445937], [-23.5617846, -46.6445133]],\n",
              "                {&quot;bubblingMouseEvents&quot;: true, &quot;color&quot;: &quot;#FF0000&quot;, &quot;dashArray&quot;: null, &quot;dashOffset&quot;: null, &quot;fill&quot;: false, &quot;fillColor&quot;: &quot;#FF0000&quot;, &quot;fillOpacity&quot;: 0.2, &quot;fillRule&quot;: &quot;evenodd&quot;, &quot;lineCap&quot;: &quot;round&quot;, &quot;lineJoin&quot;: &quot;round&quot;, &quot;noClip&quot;: false, &quot;opacity&quot;: 1.0, &quot;smoothFactor&quot;: 1.0, &quot;stroke&quot;: true, &quot;weight&quot;: 3}\n",
              "            ).addTo(map_a2a14b436287af29cdd4529e0dd5ce7e);\n",
              "        \n",
              "    \n",
              "            var poly_line_795e0fb19ddd31cb6324a6d8e5b3b7c1 = L.polyline(\n",
              "                [[-23.5580387, -46.6601165], [-23.5579353, -46.660008]],\n",
              "                {&quot;bubblingMouseEvents&quot;: true, &quot;color&quot;: &quot;#FF0000&quot;, &quot;dashArray&quot;: null, &quot;dashOffset&quot;: null, &quot;fill&quot;: false, &quot;fillColor&quot;: &quot;#FF0000&quot;, &quot;fillOpacity&quot;: 0.2, &quot;fillRule&quot;: &quot;evenodd&quot;, &quot;lineCap&quot;: &quot;round&quot;, &quot;lineJoin&quot;: &quot;round&quot;, &quot;noClip&quot;: false, &quot;opacity&quot;: 1.0, &quot;smoothFactor&quot;: 1.0, &quot;stroke&quot;: true, &quot;weight&quot;: 3}\n",
              "            ).addTo(map_a2a14b436287af29cdd4529e0dd5ce7e);\n",
              "        \n",
              "&lt;/script&gt;\n",
              "&lt;/html&gt;\" style=\"position:absolute;width:100%;height:100%;left:0;top:0;border:none !important;\" allowfullscreen webkitallowfullscreen mozallowfullscreen></iframe></div></div>"
            ]
          },
          "metadata": {},
          "execution_count": 25
        }
      ]
    },
    {
      "cell_type": "code",
      "source": [
        "# O código abaixo salva o mapa interativo armazenado na variável 'route_map' em um arquivo HTML.\n",
        "# O arquivo 'route.html' conterá o mapa com todas as rotas, linhas e elementos visuais que foram\n",
        "# adicionados ao objeto 'route_map' durante a execução do código.\n",
        "# Esse arquivo HTML pode ser aberto em qualquer navegador para visualizar o mapa de forma interativa.\n",
        "route_map.save('route.html')"
      ],
      "metadata": {
        "id": "HpYMV7qUUSGX"
      },
      "execution_count": 26,
      "outputs": []
    }
  ]
}